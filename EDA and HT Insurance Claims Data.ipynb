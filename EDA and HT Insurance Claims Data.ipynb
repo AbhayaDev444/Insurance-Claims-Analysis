{
 "cells": [
  {
   "cell_type": "code",
   "execution_count": 1,
   "id": "405e870f",
   "metadata": {},
   "outputs": [],
   "source": [
    "import pandas as pd \n",
    "import numpy as np \n",
    "import matplotlib.pyplot as plt\n",
    "import seaborn as sns\n",
    "from datetime import datetime as dt\n",
    "%matplotlib inline\n",
    "from datetime import timedelta"
   ]
  },
  {
   "cell_type": "code",
   "execution_count": 2,
   "id": "15b82d98",
   "metadata": {},
   "outputs": [],
   "source": [
    "claims = pd.read_csv('claims.csv')\n",
    "cust_demo = pd.read_csv('cust_demographics.csv')"
   ]
  },
  {
   "cell_type": "code",
   "execution_count": 3,
   "id": "7c2a3fc7",
   "metadata": {},
   "outputs": [
    {
     "data": {
      "text/html": [
       "<div>\n",
       "<style scoped>\n",
       "    .dataframe tbody tr th:only-of-type {\n",
       "        vertical-align: middle;\n",
       "    }\n",
       "\n",
       "    .dataframe tbody tr th {\n",
       "        vertical-align: top;\n",
       "    }\n",
       "\n",
       "    .dataframe thead th {\n",
       "        text-align: right;\n",
       "    }\n",
       "</style>\n",
       "<table border=\"1\" class=\"dataframe\">\n",
       "  <thead>\n",
       "    <tr style=\"text-align: right;\">\n",
       "      <th></th>\n",
       "      <th>claim_id</th>\n",
       "      <th>customer_id</th>\n",
       "      <th>incident_cause</th>\n",
       "      <th>claim_date</th>\n",
       "      <th>claim_area</th>\n",
       "      <th>police_report</th>\n",
       "      <th>claim_type</th>\n",
       "      <th>claim_amount</th>\n",
       "      <th>total_policy_claims</th>\n",
       "      <th>fraudulent</th>\n",
       "    </tr>\n",
       "  </thead>\n",
       "  <tbody>\n",
       "    <tr>\n",
       "      <th>0</th>\n",
       "      <td>54004764</td>\n",
       "      <td>21868593</td>\n",
       "      <td>Driver error</td>\n",
       "      <td>11/27/2017</td>\n",
       "      <td>Auto</td>\n",
       "      <td>No</td>\n",
       "      <td>Material only</td>\n",
       "      <td>$2980</td>\n",
       "      <td>1.0</td>\n",
       "      <td>No</td>\n",
       "    </tr>\n",
       "    <tr>\n",
       "      <th>1</th>\n",
       "      <td>33985796</td>\n",
       "      <td>75740424</td>\n",
       "      <td>Crime</td>\n",
       "      <td>10/03/2018</td>\n",
       "      <td>Home</td>\n",
       "      <td>Unknown</td>\n",
       "      <td>Material only</td>\n",
       "      <td>$2980</td>\n",
       "      <td>3.0</td>\n",
       "      <td>No</td>\n",
       "    </tr>\n",
       "    <tr>\n",
       "      <th>2</th>\n",
       "      <td>53522022</td>\n",
       "      <td>30308357</td>\n",
       "      <td>Other driver error</td>\n",
       "      <td>02/02/2018</td>\n",
       "      <td>Auto</td>\n",
       "      <td>No</td>\n",
       "      <td>Material only</td>\n",
       "      <td>$3369.5</td>\n",
       "      <td>1.0</td>\n",
       "      <td>Yes</td>\n",
       "    </tr>\n",
       "    <tr>\n",
       "      <th>3</th>\n",
       "      <td>13015401</td>\n",
       "      <td>47830476</td>\n",
       "      <td>Natural causes</td>\n",
       "      <td>06/17/2018</td>\n",
       "      <td>Auto</td>\n",
       "      <td>No</td>\n",
       "      <td>Material only</td>\n",
       "      <td>$1680</td>\n",
       "      <td>1.0</td>\n",
       "      <td>No</td>\n",
       "    </tr>\n",
       "    <tr>\n",
       "      <th>4</th>\n",
       "      <td>22890252</td>\n",
       "      <td>19269962</td>\n",
       "      <td>Crime</td>\n",
       "      <td>01/13/2018</td>\n",
       "      <td>Auto</td>\n",
       "      <td>No</td>\n",
       "      <td>Material only</td>\n",
       "      <td>$2680</td>\n",
       "      <td>1.0</td>\n",
       "      <td>No</td>\n",
       "    </tr>\n",
       "  </tbody>\n",
       "</table>\n",
       "</div>"
      ],
      "text/plain": [
       "   claim_id  customer_id      incident_cause  claim_date claim_area  \\\n",
       "0  54004764     21868593        Driver error  11/27/2017       Auto   \n",
       "1  33985796     75740424               Crime  10/03/2018       Home   \n",
       "2  53522022     30308357  Other driver error  02/02/2018       Auto   \n",
       "3  13015401     47830476      Natural causes  06/17/2018       Auto   \n",
       "4  22890252     19269962               Crime  01/13/2018       Auto   \n",
       "\n",
       "  police_report     claim_type claim_amount  total_policy_claims fraudulent  \n",
       "0            No  Material only        $2980                  1.0         No  \n",
       "1       Unknown  Material only        $2980                  3.0         No  \n",
       "2            No  Material only      $3369.5                  1.0        Yes  \n",
       "3            No  Material only        $1680                  1.0         No  \n",
       "4            No  Material only        $2680                  1.0         No  "
      ]
     },
     "execution_count": 3,
     "metadata": {},
     "output_type": "execute_result"
    }
   ],
   "source": [
    "claims.head()"
   ]
  },
  {
   "cell_type": "code",
   "execution_count": 4,
   "id": "5e0b3c62",
   "metadata": {},
   "outputs": [
    {
     "name": "stdout",
     "output_type": "stream",
     "text": [
      "<class 'pandas.core.frame.DataFrame'>\n",
      "RangeIndex: 1100 entries, 0 to 1099\n",
      "Data columns (total 10 columns):\n",
      " #   Column               Non-Null Count  Dtype  \n",
      "---  ------               --------------  -----  \n",
      " 0   claim_id             1100 non-null   int64  \n",
      " 1   customer_id          1100 non-null   int64  \n",
      " 2   incident_cause       1100 non-null   object \n",
      " 3   claim_date           1100 non-null   object \n",
      " 4   claim_area           1100 non-null   object \n",
      " 5   police_report        1100 non-null   object \n",
      " 6   claim_type           1100 non-null   object \n",
      " 7   claim_amount         1035 non-null   object \n",
      " 8   total_policy_claims  1090 non-null   float64\n",
      " 9   fraudulent           1100 non-null   object \n",
      "dtypes: float64(1), int64(2), object(7)\n",
      "memory usage: 86.1+ KB\n"
     ]
    }
   ],
   "source": [
    "claims.info()"
   ]
  },
  {
   "cell_type": "code",
   "execution_count": 5,
   "id": "81a26270",
   "metadata": {},
   "outputs": [
    {
     "data": {
      "text/html": [
       "<div>\n",
       "<style scoped>\n",
       "    .dataframe tbody tr th:only-of-type {\n",
       "        vertical-align: middle;\n",
       "    }\n",
       "\n",
       "    .dataframe tbody tr th {\n",
       "        vertical-align: top;\n",
       "    }\n",
       "\n",
       "    .dataframe thead th {\n",
       "        text-align: right;\n",
       "    }\n",
       "</style>\n",
       "<table border=\"1\" class=\"dataframe\">\n",
       "  <thead>\n",
       "    <tr style=\"text-align: right;\">\n",
       "      <th></th>\n",
       "      <th>CUST_ID</th>\n",
       "      <th>gender</th>\n",
       "      <th>DateOfBirth</th>\n",
       "      <th>State</th>\n",
       "      <th>Contact</th>\n",
       "      <th>Segment</th>\n",
       "    </tr>\n",
       "  </thead>\n",
       "  <tbody>\n",
       "    <tr>\n",
       "      <th>0</th>\n",
       "      <td>21868593</td>\n",
       "      <td>Female</td>\n",
       "      <td>12-Jan-79</td>\n",
       "      <td>VT</td>\n",
       "      <td>789-916-8172</td>\n",
       "      <td>Platinum</td>\n",
       "    </tr>\n",
       "    <tr>\n",
       "      <th>1</th>\n",
       "      <td>75740424</td>\n",
       "      <td>Female</td>\n",
       "      <td>13-Jan-70</td>\n",
       "      <td>ME</td>\n",
       "      <td>265-543-1264</td>\n",
       "      <td>Silver</td>\n",
       "    </tr>\n",
       "    <tr>\n",
       "      <th>2</th>\n",
       "      <td>30308357</td>\n",
       "      <td>Female</td>\n",
       "      <td>11-Mar-84</td>\n",
       "      <td>TN</td>\n",
       "      <td>798-631-4758</td>\n",
       "      <td>Silver</td>\n",
       "    </tr>\n",
       "    <tr>\n",
       "      <th>3</th>\n",
       "      <td>47830476</td>\n",
       "      <td>Female</td>\n",
       "      <td>01-May-86</td>\n",
       "      <td>MA</td>\n",
       "      <td>413-187-7945</td>\n",
       "      <td>Silver</td>\n",
       "    </tr>\n",
       "    <tr>\n",
       "      <th>4</th>\n",
       "      <td>19269962</td>\n",
       "      <td>Male</td>\n",
       "      <td>13-May-77</td>\n",
       "      <td>NV</td>\n",
       "      <td>956-871-8691</td>\n",
       "      <td>Gold</td>\n",
       "    </tr>\n",
       "  </tbody>\n",
       "</table>\n",
       "</div>"
      ],
      "text/plain": [
       "    CUST_ID  gender DateOfBirth State       Contact   Segment\n",
       "0  21868593  Female   12-Jan-79    VT  789-916-8172  Platinum\n",
       "1  75740424  Female   13-Jan-70    ME  265-543-1264    Silver\n",
       "2  30308357  Female   11-Mar-84    TN  798-631-4758    Silver\n",
       "3  47830476  Female   01-May-86    MA  413-187-7945    Silver\n",
       "4  19269962    Male   13-May-77    NV  956-871-8691      Gold"
      ]
     },
     "execution_count": 5,
     "metadata": {},
     "output_type": "execute_result"
    }
   ],
   "source": [
    "cust_demo.head()"
   ]
  },
  {
   "cell_type": "code",
   "execution_count": 6,
   "id": "e8c65ef0",
   "metadata": {},
   "outputs": [
    {
     "name": "stdout",
     "output_type": "stream",
     "text": [
      "<class 'pandas.core.frame.DataFrame'>\n",
      "RangeIndex: 1085 entries, 0 to 1084\n",
      "Data columns (total 6 columns):\n",
      " #   Column       Non-Null Count  Dtype \n",
      "---  ------       --------------  ----- \n",
      " 0   CUST_ID      1085 non-null   int64 \n",
      " 1   gender       1085 non-null   object\n",
      " 2   DateOfBirth  1085 non-null   object\n",
      " 3   State        1085 non-null   object\n",
      " 4   Contact      1085 non-null   object\n",
      " 5   Segment      1085 non-null   object\n",
      "dtypes: int64(1), object(5)\n",
      "memory usage: 51.0+ KB\n"
     ]
    }
   ],
   "source": [
    "cust_demo.info()"
   ]
  },
  {
   "cell_type": "code",
   "execution_count": 7,
   "id": "2d292e36",
   "metadata": {},
   "outputs": [
    {
     "name": "stdout",
     "output_type": "stream",
     "text": [
      "<class 'pandas.core.frame.DataFrame'>\n",
      "Int64Index: 1100 entries, 0 to 1099\n",
      "Data columns (total 15 columns):\n",
      " #   Column               Non-Null Count  Dtype  \n",
      "---  ------               --------------  -----  \n",
      " 0   claim_id             1100 non-null   int64  \n",
      " 1   customer_id          1100 non-null   int64  \n",
      " 2   incident_cause       1100 non-null   object \n",
      " 3   claim_date           1100 non-null   object \n",
      " 4   claim_area           1100 non-null   object \n",
      " 5   police_report        1100 non-null   object \n",
      " 6   claim_type           1100 non-null   object \n",
      " 7   claim_amount         1035 non-null   object \n",
      " 8   total_policy_claims  1090 non-null   float64\n",
      " 9   fraudulent           1100 non-null   object \n",
      " 10  gender               1085 non-null   object \n",
      " 11  DateOfBirth          1085 non-null   object \n",
      " 12  State                1085 non-null   object \n",
      " 13  Contact              1085 non-null   object \n",
      " 14  Segment              1085 non-null   object \n",
      "dtypes: float64(1), int64(2), object(12)\n",
      "memory usage: 137.5+ KB\n"
     ]
    }
   ],
   "source": [
    "#combining claims data and customer demographics data\n",
    "\n",
    "cust_claims = pd.merge(claims,cust_demo,left_on='customer_id',right_on='CUST_ID',how = 'left')\n",
    "cust_claims = cust_claims.drop(columns = 'CUST_ID')\n",
    "cust_claims.info()"
   ]
  },
  {
   "cell_type": "code",
   "execution_count": 8,
   "id": "821893a4",
   "metadata": {},
   "outputs": [
    {
     "data": {
      "text/plain": [
       "claim_id                0\n",
       "customer_id             0\n",
       "incident_cause          0\n",
       "claim_date              0\n",
       "claim_area              0\n",
       "police_report           0\n",
       "claim_type              0\n",
       "claim_amount           65\n",
       "total_policy_claims    10\n",
       "fraudulent              0\n",
       "gender                 15\n",
       "DateOfBirth            15\n",
       "State                  15\n",
       "Contact                15\n",
       "Segment                15\n",
       "dtype: int64"
      ]
     },
     "execution_count": 8,
     "metadata": {},
     "output_type": "execute_result"
    }
   ],
   "source": [
    "cust_claims.isna().sum()"
   ]
  },
  {
   "cell_type": "code",
   "execution_count": 9,
   "id": "f53f1afc",
   "metadata": {},
   "outputs": [
    {
     "data": {
      "text/plain": [
       "0"
      ]
     },
     "execution_count": 9,
     "metadata": {},
     "output_type": "execute_result"
    }
   ],
   "source": [
    "cust_claims.duplicated().sum()"
   ]
  },
  {
   "cell_type": "code",
   "execution_count": 10,
   "id": "d250f1b1",
   "metadata": {},
   "outputs": [],
   "source": [
    "#Treating missing values\n",
    "def null_treat(x):\n",
    "    if (x.dtype==float) or (x.dtype==int):\n",
    "        x = x.fillna(x.mean())\n",
    "    elif (x.dtype==object):\n",
    "        x = x.fillna(x.mode()[0])\n",
    "    else:\n",
    "        x\n",
    "    return x"
   ]
  },
  {
   "cell_type": "code",
   "execution_count": 11,
   "id": "52ac2699",
   "metadata": {},
   "outputs": [],
   "source": [
    "cust_claims = cust_claims.apply(null_treat)"
   ]
  },
  {
   "cell_type": "code",
   "execution_count": 12,
   "id": "5539cb52",
   "metadata": {},
   "outputs": [
    {
     "name": "stdout",
     "output_type": "stream",
     "text": [
      "<class 'pandas.core.frame.DataFrame'>\n",
      "Int64Index: 1100 entries, 0 to 1099\n",
      "Data columns (total 15 columns):\n",
      " #   Column               Non-Null Count  Dtype  \n",
      "---  ------               --------------  -----  \n",
      " 0   claim_id             1100 non-null   int64  \n",
      " 1   customer_id          1100 non-null   int64  \n",
      " 2   incident_cause       1100 non-null   object \n",
      " 3   claim_date           1100 non-null   object \n",
      " 4   claim_area           1100 non-null   object \n",
      " 5   police_report        1100 non-null   object \n",
      " 6   claim_type           1100 non-null   object \n",
      " 7   claim_amount         1100 non-null   object \n",
      " 8   total_policy_claims  1100 non-null   float64\n",
      " 9   fraudulent           1100 non-null   object \n",
      " 10  gender               1100 non-null   object \n",
      " 11  DateOfBirth          1100 non-null   object \n",
      " 12  State                1100 non-null   object \n",
      " 13  Contact              1100 non-null   object \n",
      " 14  Segment              1100 non-null   object \n",
      "dtypes: float64(1), int64(2), object(12)\n",
      "memory usage: 137.5+ KB\n"
     ]
    }
   ],
   "source": [
    "cust_claims.info()"
   ]
  },
  {
   "cell_type": "code",
   "execution_count": 13,
   "id": "011a2baf",
   "metadata": {},
   "outputs": [
    {
     "data": {
      "text/html": [
       "<div>\n",
       "<style scoped>\n",
       "    .dataframe tbody tr th:only-of-type {\n",
       "        vertical-align: middle;\n",
       "    }\n",
       "\n",
       "    .dataframe tbody tr th {\n",
       "        vertical-align: top;\n",
       "    }\n",
       "\n",
       "    .dataframe thead th {\n",
       "        text-align: right;\n",
       "    }\n",
       "</style>\n",
       "<table border=\"1\" class=\"dataframe\">\n",
       "  <thead>\n",
       "    <tr style=\"text-align: right;\">\n",
       "      <th></th>\n",
       "      <th>claim_id</th>\n",
       "      <th>customer_id</th>\n",
       "      <th>incident_cause</th>\n",
       "      <th>claim_date</th>\n",
       "      <th>claim_area</th>\n",
       "      <th>police_report</th>\n",
       "      <th>claim_type</th>\n",
       "      <th>claim_amount</th>\n",
       "      <th>total_policy_claims</th>\n",
       "      <th>fraudulent</th>\n",
       "      <th>gender</th>\n",
       "      <th>DateOfBirth</th>\n",
       "      <th>State</th>\n",
       "      <th>Contact</th>\n",
       "      <th>Segment</th>\n",
       "    </tr>\n",
       "  </thead>\n",
       "  <tbody>\n",
       "    <tr>\n",
       "      <th>0</th>\n",
       "      <td>54004764</td>\n",
       "      <td>21868593</td>\n",
       "      <td>Driver error</td>\n",
       "      <td>11/27/2017</td>\n",
       "      <td>Auto</td>\n",
       "      <td>No</td>\n",
       "      <td>Material only</td>\n",
       "      <td>$2980</td>\n",
       "      <td>1.0</td>\n",
       "      <td>No</td>\n",
       "      <td>Female</td>\n",
       "      <td>12-Jan-79</td>\n",
       "      <td>VT</td>\n",
       "      <td>789-916-8172</td>\n",
       "      <td>Platinum</td>\n",
       "    </tr>\n",
       "    <tr>\n",
       "      <th>1</th>\n",
       "      <td>33985796</td>\n",
       "      <td>75740424</td>\n",
       "      <td>Crime</td>\n",
       "      <td>10/03/2018</td>\n",
       "      <td>Home</td>\n",
       "      <td>Unknown</td>\n",
       "      <td>Material only</td>\n",
       "      <td>$2980</td>\n",
       "      <td>3.0</td>\n",
       "      <td>No</td>\n",
       "      <td>Female</td>\n",
       "      <td>13-Jan-70</td>\n",
       "      <td>ME</td>\n",
       "      <td>265-543-1264</td>\n",
       "      <td>Silver</td>\n",
       "    </tr>\n",
       "    <tr>\n",
       "      <th>2</th>\n",
       "      <td>53522022</td>\n",
       "      <td>30308357</td>\n",
       "      <td>Other driver error</td>\n",
       "      <td>02/02/2018</td>\n",
       "      <td>Auto</td>\n",
       "      <td>No</td>\n",
       "      <td>Material only</td>\n",
       "      <td>$3369.5</td>\n",
       "      <td>1.0</td>\n",
       "      <td>Yes</td>\n",
       "      <td>Female</td>\n",
       "      <td>11-Mar-84</td>\n",
       "      <td>TN</td>\n",
       "      <td>798-631-4758</td>\n",
       "      <td>Silver</td>\n",
       "    </tr>\n",
       "    <tr>\n",
       "      <th>3</th>\n",
       "      <td>13015401</td>\n",
       "      <td>47830476</td>\n",
       "      <td>Natural causes</td>\n",
       "      <td>06/17/2018</td>\n",
       "      <td>Auto</td>\n",
       "      <td>No</td>\n",
       "      <td>Material only</td>\n",
       "      <td>$1680</td>\n",
       "      <td>1.0</td>\n",
       "      <td>No</td>\n",
       "      <td>Female</td>\n",
       "      <td>01-May-86</td>\n",
       "      <td>MA</td>\n",
       "      <td>413-187-7945</td>\n",
       "      <td>Silver</td>\n",
       "    </tr>\n",
       "    <tr>\n",
       "      <th>4</th>\n",
       "      <td>22890252</td>\n",
       "      <td>19269962</td>\n",
       "      <td>Crime</td>\n",
       "      <td>01/13/2018</td>\n",
       "      <td>Auto</td>\n",
       "      <td>No</td>\n",
       "      <td>Material only</td>\n",
       "      <td>$2680</td>\n",
       "      <td>1.0</td>\n",
       "      <td>No</td>\n",
       "      <td>Male</td>\n",
       "      <td>13-May-77</td>\n",
       "      <td>NV</td>\n",
       "      <td>956-871-8691</td>\n",
       "      <td>Gold</td>\n",
       "    </tr>\n",
       "  </tbody>\n",
       "</table>\n",
       "</div>"
      ],
      "text/plain": [
       "   claim_id  customer_id      incident_cause  claim_date claim_area  \\\n",
       "0  54004764     21868593        Driver error  11/27/2017       Auto   \n",
       "1  33985796     75740424               Crime  10/03/2018       Home   \n",
       "2  53522022     30308357  Other driver error  02/02/2018       Auto   \n",
       "3  13015401     47830476      Natural causes  06/17/2018       Auto   \n",
       "4  22890252     19269962               Crime  01/13/2018       Auto   \n",
       "\n",
       "  police_report     claim_type claim_amount  total_policy_claims fraudulent  \\\n",
       "0            No  Material only        $2980                  1.0         No   \n",
       "1       Unknown  Material only        $2980                  3.0         No   \n",
       "2            No  Material only      $3369.5                  1.0        Yes   \n",
       "3            No  Material only        $1680                  1.0         No   \n",
       "4            No  Material only        $2680                  1.0         No   \n",
       "\n",
       "   gender DateOfBirth State       Contact   Segment  \n",
       "0  Female   12-Jan-79    VT  789-916-8172  Platinum  \n",
       "1  Female   13-Jan-70    ME  265-543-1264    Silver  \n",
       "2  Female   11-Mar-84    TN  798-631-4758    Silver  \n",
       "3  Female   01-May-86    MA  413-187-7945    Silver  \n",
       "4    Male   13-May-77    NV  956-871-8691      Gold  "
      ]
     },
     "execution_count": 13,
     "metadata": {},
     "output_type": "execute_result"
    }
   ],
   "source": [
    "cust_claims.head()"
   ]
  },
  {
   "cell_type": "code",
   "execution_count": 14,
   "id": "c0c08149",
   "metadata": {},
   "outputs": [],
   "source": [
    "#converting claim date and DateofBirth to datetime\n",
    "\n",
    "cust_claims['claim_date']= pd.to_datetime(cust_claims.claim_date)\n",
    "cust_claims['DateOfBirth']= pd.to_datetime(cust_claims.DateOfBirth)"
   ]
  },
  {
   "cell_type": "code",
   "execution_count": 15,
   "id": "0e52ce7c",
   "metadata": {},
   "outputs": [
    {
     "data": {
      "text/plain": [
       "DatetimeIndex(['1979-01-12', '2070-01-13', '1984-03-11', '1986-05-01',\n",
       "               '1977-05-13', '1977-05-17', '1999-03-02', '1999-10-25',\n",
       "               '1993-10-12', '2066-09-09',\n",
       "               ...\n",
       "               '1986-05-01', '1986-05-01', '1986-05-01', '1986-05-01',\n",
       "               '1986-05-01', '1986-05-01', '1986-05-01', '1986-05-01',\n",
       "               '1986-05-01', '1986-05-01'],\n",
       "              dtype='datetime64[ns]', name='DateOfBirth', length=1100, freq=None)"
      ]
     },
     "execution_count": 15,
     "metadata": {},
     "output_type": "execute_result"
    }
   ],
   "source": [
    "pd.DatetimeIndex(cust_claims.DateOfBirth)"
   ]
  },
  {
   "cell_type": "code",
   "execution_count": 16,
   "id": "95a799a7",
   "metadata": {},
   "outputs": [],
   "source": [
    "\n",
    "cust_claims['DateOfBirth'] = np.where(pd.DatetimeIndex(cust_claims['DateOfBirth']).year>2000,cust_claims['DateOfBirth']-timedelta(100*365.25),cust_claims['DateOfBirth'])\n"
   ]
  },
  {
   "cell_type": "code",
   "execution_count": 17,
   "id": "1cf3041c",
   "metadata": {},
   "outputs": [],
   "source": [
    "# converting claim_id,customer_id and total_policy_claims to int data type\n",
    "\n",
    "cust_claims[['claim_id','customer_id','total_policy_claims']]=cust_claims[['claim_id','customer_id','total_policy_claims']].astype(int)"
   ]
  },
  {
   "cell_type": "code",
   "execution_count": 18,
   "id": "487e2c6c",
   "metadata": {},
   "outputs": [],
   "source": [
    "#converting claim_amount to float\n",
    "\n",
    "cust_claims['claim_amount'] = cust_claims['claim_amount'].apply(lambda x: float(str(x).replace('$','')))"
   ]
  },
  {
   "cell_type": "code",
   "execution_count": 19,
   "id": "b106db52",
   "metadata": {},
   "outputs": [
    {
     "name": "stdout",
     "output_type": "stream",
     "text": [
      "<class 'pandas.core.frame.DataFrame'>\n",
      "Int64Index: 1100 entries, 0 to 1099\n",
      "Data columns (total 15 columns):\n",
      " #   Column               Non-Null Count  Dtype         \n",
      "---  ------               --------------  -----         \n",
      " 0   claim_id             1100 non-null   int64         \n",
      " 1   customer_id          1100 non-null   int64         \n",
      " 2   incident_cause       1100 non-null   object        \n",
      " 3   claim_date           1100 non-null   datetime64[ns]\n",
      " 4   claim_area           1100 non-null   object        \n",
      " 5   police_report        1100 non-null   object        \n",
      " 6   claim_type           1100 non-null   object        \n",
      " 7   claim_amount         1100 non-null   float64       \n",
      " 8   total_policy_claims  1100 non-null   int64         \n",
      " 9   fraudulent           1100 non-null   object        \n",
      " 10  gender               1100 non-null   object        \n",
      " 11  DateOfBirth          1100 non-null   datetime64[ns]\n",
      " 12  State                1100 non-null   object        \n",
      " 13  Contact              1100 non-null   object        \n",
      " 14  Segment              1100 non-null   object        \n",
      "dtypes: datetime64[ns](2), float64(1), int64(3), object(9)\n",
      "memory usage: 137.5+ KB\n"
     ]
    }
   ],
   "source": [
    "cust_claims.info()"
   ]
  },
  {
   "cell_type": "code",
   "execution_count": 20,
   "id": "e2885a77",
   "metadata": {},
   "outputs": [],
   "source": [
    "cust_claims['alert_flag'] = np.where(cust_claims.police_report=='Yes',0,1)"
   ]
  },
  {
   "cell_type": "code",
   "execution_count": 21,
   "id": "a1ce2ee8",
   "metadata": {},
   "outputs": [
    {
     "data": {
      "text/plain": [
       "7"
      ]
     },
     "execution_count": 21,
     "metadata": {},
     "output_type": "execute_result"
    }
   ],
   "source": [
    "sum(cust_claims.customer_id.duplicated())"
   ]
  },
  {
   "cell_type": "code",
   "execution_count": 22,
   "id": "84089cac",
   "metadata": {},
   "outputs": [],
   "source": [
    "cust_claims.customer_id = cust_claims.sort_values(by ='claim_date',ascending=False )['customer_id'].drop_duplicates()\n",
    "cust_claims.dropna(inplace=True)"
   ]
  },
  {
   "cell_type": "code",
   "execution_count": 23,
   "id": "5d5b9beb",
   "metadata": {},
   "outputs": [
    {
     "data": {
      "text/plain": [
       "claim_id               0\n",
       "customer_id            0\n",
       "incident_cause         0\n",
       "claim_date             0\n",
       "claim_area             0\n",
       "police_report          0\n",
       "claim_type             0\n",
       "claim_amount           0\n",
       "total_policy_claims    0\n",
       "fraudulent             0\n",
       "gender                 0\n",
       "DateOfBirth            0\n",
       "State                  0\n",
       "Contact                0\n",
       "Segment                0\n",
       "alert_flag             0\n",
       "dtype: int64"
      ]
     },
     "execution_count": 23,
     "metadata": {},
     "output_type": "execute_result"
    }
   ],
   "source": [
    "cust_claims.isna().sum()"
   ]
  },
  {
   "cell_type": "code",
   "execution_count": 24,
   "id": "5fc2e793",
   "metadata": {},
   "outputs": [],
   "source": [
    "cust_claims['age'] = (cust_claims.claim_date - cust_claims.DateOfBirth)/(timedelta(days = 365.25))\n",
    "cust_claims.age =cust_claims.age.astype(int)"
   ]
  },
  {
   "cell_type": "code",
   "execution_count": 25,
   "id": "b2f88282",
   "metadata": {},
   "outputs": [
    {
     "data": {
      "text/html": [
       "<div>\n",
       "<style scoped>\n",
       "    .dataframe tbody tr th:only-of-type {\n",
       "        vertical-align: middle;\n",
       "    }\n",
       "\n",
       "    .dataframe tbody tr th {\n",
       "        vertical-align: top;\n",
       "    }\n",
       "\n",
       "    .dataframe thead th {\n",
       "        text-align: right;\n",
       "    }\n",
       "</style>\n",
       "<table border=\"1\" class=\"dataframe\">\n",
       "  <thead>\n",
       "    <tr style=\"text-align: right;\">\n",
       "      <th></th>\n",
       "      <th>claim_id</th>\n",
       "      <th>customer_id</th>\n",
       "      <th>incident_cause</th>\n",
       "      <th>claim_date</th>\n",
       "      <th>claim_area</th>\n",
       "      <th>police_report</th>\n",
       "      <th>claim_type</th>\n",
       "      <th>claim_amount</th>\n",
       "      <th>total_policy_claims</th>\n",
       "      <th>fraudulent</th>\n",
       "      <th>gender</th>\n",
       "      <th>DateOfBirth</th>\n",
       "      <th>State</th>\n",
       "      <th>Contact</th>\n",
       "      <th>Segment</th>\n",
       "      <th>alert_flag</th>\n",
       "      <th>age</th>\n",
       "    </tr>\n",
       "  </thead>\n",
       "  <tbody>\n",
       "    <tr>\n",
       "      <th>0</th>\n",
       "      <td>54004764</td>\n",
       "      <td>21868593.0</td>\n",
       "      <td>Driver error</td>\n",
       "      <td>2017-11-27</td>\n",
       "      <td>Auto</td>\n",
       "      <td>No</td>\n",
       "      <td>Material only</td>\n",
       "      <td>2980.0</td>\n",
       "      <td>1</td>\n",
       "      <td>No</td>\n",
       "      <td>Female</td>\n",
       "      <td>1979-01-12</td>\n",
       "      <td>VT</td>\n",
       "      <td>789-916-8172</td>\n",
       "      <td>Platinum</td>\n",
       "      <td>1</td>\n",
       "      <td>38</td>\n",
       "    </tr>\n",
       "    <tr>\n",
       "      <th>1</th>\n",
       "      <td>33985796</td>\n",
       "      <td>75740424.0</td>\n",
       "      <td>Crime</td>\n",
       "      <td>2018-10-03</td>\n",
       "      <td>Home</td>\n",
       "      <td>Unknown</td>\n",
       "      <td>Material only</td>\n",
       "      <td>2980.0</td>\n",
       "      <td>3</td>\n",
       "      <td>No</td>\n",
       "      <td>Female</td>\n",
       "      <td>1970-01-13</td>\n",
       "      <td>ME</td>\n",
       "      <td>265-543-1264</td>\n",
       "      <td>Silver</td>\n",
       "      <td>1</td>\n",
       "      <td>48</td>\n",
       "    </tr>\n",
       "    <tr>\n",
       "      <th>3</th>\n",
       "      <td>13015401</td>\n",
       "      <td>47830476.0</td>\n",
       "      <td>Natural causes</td>\n",
       "      <td>2018-06-17</td>\n",
       "      <td>Auto</td>\n",
       "      <td>No</td>\n",
       "      <td>Material only</td>\n",
       "      <td>1680.0</td>\n",
       "      <td>1</td>\n",
       "      <td>No</td>\n",
       "      <td>Female</td>\n",
       "      <td>1986-05-01</td>\n",
       "      <td>MA</td>\n",
       "      <td>413-187-7945</td>\n",
       "      <td>Silver</td>\n",
       "      <td>1</td>\n",
       "      <td>32</td>\n",
       "    </tr>\n",
       "    <tr>\n",
       "      <th>6</th>\n",
       "      <td>12878692</td>\n",
       "      <td>18401412.0</td>\n",
       "      <td>Driver error</td>\n",
       "      <td>2018-01-13</td>\n",
       "      <td>Auto</td>\n",
       "      <td>No</td>\n",
       "      <td>Material only</td>\n",
       "      <td>1730.0</td>\n",
       "      <td>4</td>\n",
       "      <td>No</td>\n",
       "      <td>Male</td>\n",
       "      <td>1999-03-02</td>\n",
       "      <td>AR</td>\n",
       "      <td>752-398-2914</td>\n",
       "      <td>Gold</td>\n",
       "      <td>1</td>\n",
       "      <td>18</td>\n",
       "    </tr>\n",
       "    <tr>\n",
       "      <th>7</th>\n",
       "      <td>27026412</td>\n",
       "      <td>73486606.0</td>\n",
       "      <td>Natural causes</td>\n",
       "      <td>2018-04-10</td>\n",
       "      <td>Auto</td>\n",
       "      <td>No</td>\n",
       "      <td>Material only</td>\n",
       "      <td>1160.0</td>\n",
       "      <td>3</td>\n",
       "      <td>No</td>\n",
       "      <td>Male</td>\n",
       "      <td>1999-10-25</td>\n",
       "      <td>AK</td>\n",
       "      <td>256-968-9172</td>\n",
       "      <td>Silver</td>\n",
       "      <td>1</td>\n",
       "      <td>18</td>\n",
       "    </tr>\n",
       "  </tbody>\n",
       "</table>\n",
       "</div>"
      ],
      "text/plain": [
       "   claim_id  customer_id  incident_cause claim_date claim_area police_report  \\\n",
       "0  54004764   21868593.0    Driver error 2017-11-27       Auto            No   \n",
       "1  33985796   75740424.0           Crime 2018-10-03       Home       Unknown   \n",
       "3  13015401   47830476.0  Natural causes 2018-06-17       Auto            No   \n",
       "6  12878692   18401412.0    Driver error 2018-01-13       Auto            No   \n",
       "7  27026412   73486606.0  Natural causes 2018-04-10       Auto            No   \n",
       "\n",
       "      claim_type  claim_amount  total_policy_claims fraudulent  gender  \\\n",
       "0  Material only        2980.0                    1         No  Female   \n",
       "1  Material only        2980.0                    3         No  Female   \n",
       "3  Material only        1680.0                    1         No  Female   \n",
       "6  Material only        1730.0                    4         No    Male   \n",
       "7  Material only        1160.0                    3         No    Male   \n",
       "\n",
       "  DateOfBirth State       Contact   Segment  alert_flag  age  \n",
       "0  1979-01-12    VT  789-916-8172  Platinum           1   38  \n",
       "1  1970-01-13    ME  265-543-1264    Silver           1   48  \n",
       "3  1986-05-01    MA  413-187-7945    Silver           1   32  \n",
       "6  1999-03-02    AR  752-398-2914      Gold           1   18  \n",
       "7  1999-10-25    AK  256-968-9172    Silver           1   18  "
      ]
     },
     "execution_count": 25,
     "metadata": {},
     "output_type": "execute_result"
    }
   ],
   "source": [
    "cust_claims.head()"
   ]
  },
  {
   "cell_type": "code",
   "execution_count": 26,
   "id": "8c2c39e7",
   "metadata": {},
   "outputs": [],
   "source": [
    "cust_claims['age_category']=np.where(cust_claims.age<18,'Children',np.where(cust_claims.age<30,'Youth',np.where(cust_claims.age<60,'Adult','Senior')))"
   ]
  },
  {
   "cell_type": "code",
   "execution_count": 27,
   "id": "dc3d3b2a",
   "metadata": {},
   "outputs": [
    {
     "data": {
      "text/html": [
       "<div>\n",
       "<style scoped>\n",
       "    .dataframe tbody tr th:only-of-type {\n",
       "        vertical-align: middle;\n",
       "    }\n",
       "\n",
       "    .dataframe tbody tr th {\n",
       "        vertical-align: top;\n",
       "    }\n",
       "\n",
       "    .dataframe thead th {\n",
       "        text-align: right;\n",
       "    }\n",
       "</style>\n",
       "<table border=\"1\" class=\"dataframe\">\n",
       "  <thead>\n",
       "    <tr style=\"text-align: right;\">\n",
       "      <th></th>\n",
       "      <th>claim_id</th>\n",
       "      <th>customer_id</th>\n",
       "      <th>incident_cause</th>\n",
       "      <th>claim_date</th>\n",
       "      <th>claim_area</th>\n",
       "      <th>police_report</th>\n",
       "      <th>claim_type</th>\n",
       "      <th>claim_amount</th>\n",
       "      <th>total_policy_claims</th>\n",
       "      <th>fraudulent</th>\n",
       "      <th>gender</th>\n",
       "      <th>DateOfBirth</th>\n",
       "      <th>State</th>\n",
       "      <th>Contact</th>\n",
       "      <th>Segment</th>\n",
       "      <th>alert_flag</th>\n",
       "      <th>age</th>\n",
       "      <th>age_category</th>\n",
       "    </tr>\n",
       "  </thead>\n",
       "  <tbody>\n",
       "    <tr>\n",
       "      <th>0</th>\n",
       "      <td>54004764</td>\n",
       "      <td>21868593.0</td>\n",
       "      <td>Driver error</td>\n",
       "      <td>2017-11-27</td>\n",
       "      <td>Auto</td>\n",
       "      <td>No</td>\n",
       "      <td>Material only</td>\n",
       "      <td>2980.0</td>\n",
       "      <td>1</td>\n",
       "      <td>No</td>\n",
       "      <td>Female</td>\n",
       "      <td>1979-01-12</td>\n",
       "      <td>VT</td>\n",
       "      <td>789-916-8172</td>\n",
       "      <td>Platinum</td>\n",
       "      <td>1</td>\n",
       "      <td>38</td>\n",
       "      <td>Adult</td>\n",
       "    </tr>\n",
       "    <tr>\n",
       "      <th>1</th>\n",
       "      <td>33985796</td>\n",
       "      <td>75740424.0</td>\n",
       "      <td>Crime</td>\n",
       "      <td>2018-10-03</td>\n",
       "      <td>Home</td>\n",
       "      <td>Unknown</td>\n",
       "      <td>Material only</td>\n",
       "      <td>2980.0</td>\n",
       "      <td>3</td>\n",
       "      <td>No</td>\n",
       "      <td>Female</td>\n",
       "      <td>1970-01-13</td>\n",
       "      <td>ME</td>\n",
       "      <td>265-543-1264</td>\n",
       "      <td>Silver</td>\n",
       "      <td>1</td>\n",
       "      <td>48</td>\n",
       "      <td>Adult</td>\n",
       "    </tr>\n",
       "    <tr>\n",
       "      <th>3</th>\n",
       "      <td>13015401</td>\n",
       "      <td>47830476.0</td>\n",
       "      <td>Natural causes</td>\n",
       "      <td>2018-06-17</td>\n",
       "      <td>Auto</td>\n",
       "      <td>No</td>\n",
       "      <td>Material only</td>\n",
       "      <td>1680.0</td>\n",
       "      <td>1</td>\n",
       "      <td>No</td>\n",
       "      <td>Female</td>\n",
       "      <td>1986-05-01</td>\n",
       "      <td>MA</td>\n",
       "      <td>413-187-7945</td>\n",
       "      <td>Silver</td>\n",
       "      <td>1</td>\n",
       "      <td>32</td>\n",
       "      <td>Adult</td>\n",
       "    </tr>\n",
       "    <tr>\n",
       "      <th>6</th>\n",
       "      <td>12878692</td>\n",
       "      <td>18401412.0</td>\n",
       "      <td>Driver error</td>\n",
       "      <td>2018-01-13</td>\n",
       "      <td>Auto</td>\n",
       "      <td>No</td>\n",
       "      <td>Material only</td>\n",
       "      <td>1730.0</td>\n",
       "      <td>4</td>\n",
       "      <td>No</td>\n",
       "      <td>Male</td>\n",
       "      <td>1999-03-02</td>\n",
       "      <td>AR</td>\n",
       "      <td>752-398-2914</td>\n",
       "      <td>Gold</td>\n",
       "      <td>1</td>\n",
       "      <td>18</td>\n",
       "      <td>Youth</td>\n",
       "    </tr>\n",
       "    <tr>\n",
       "      <th>7</th>\n",
       "      <td>27026412</td>\n",
       "      <td>73486606.0</td>\n",
       "      <td>Natural causes</td>\n",
       "      <td>2018-04-10</td>\n",
       "      <td>Auto</td>\n",
       "      <td>No</td>\n",
       "      <td>Material only</td>\n",
       "      <td>1160.0</td>\n",
       "      <td>3</td>\n",
       "      <td>No</td>\n",
       "      <td>Male</td>\n",
       "      <td>1999-10-25</td>\n",
       "      <td>AK</td>\n",
       "      <td>256-968-9172</td>\n",
       "      <td>Silver</td>\n",
       "      <td>1</td>\n",
       "      <td>18</td>\n",
       "      <td>Youth</td>\n",
       "    </tr>\n",
       "  </tbody>\n",
       "</table>\n",
       "</div>"
      ],
      "text/plain": [
       "   claim_id  customer_id  incident_cause claim_date claim_area police_report  \\\n",
       "0  54004764   21868593.0    Driver error 2017-11-27       Auto            No   \n",
       "1  33985796   75740424.0           Crime 2018-10-03       Home       Unknown   \n",
       "3  13015401   47830476.0  Natural causes 2018-06-17       Auto            No   \n",
       "6  12878692   18401412.0    Driver error 2018-01-13       Auto            No   \n",
       "7  27026412   73486606.0  Natural causes 2018-04-10       Auto            No   \n",
       "\n",
       "      claim_type  claim_amount  total_policy_claims fraudulent  gender  \\\n",
       "0  Material only        2980.0                    1         No  Female   \n",
       "1  Material only        2980.0                    3         No  Female   \n",
       "3  Material only        1680.0                    1         No  Female   \n",
       "6  Material only        1730.0                    4         No    Male   \n",
       "7  Material only        1160.0                    3         No    Male   \n",
       "\n",
       "  DateOfBirth State       Contact   Segment  alert_flag  age age_category  \n",
       "0  1979-01-12    VT  789-916-8172  Platinum           1   38        Adult  \n",
       "1  1970-01-13    ME  265-543-1264    Silver           1   48        Adult  \n",
       "3  1986-05-01    MA  413-187-7945    Silver           1   32        Adult  \n",
       "6  1999-03-02    AR  752-398-2914      Gold           1   18        Youth  \n",
       "7  1999-10-25    AK  256-968-9172    Silver           1   18        Youth  "
      ]
     },
     "execution_count": 27,
     "metadata": {},
     "output_type": "execute_result"
    }
   ],
   "source": [
    "cust_claims.head()"
   ]
  },
  {
   "cell_type": "code",
   "execution_count": 28,
   "id": "973764dc",
   "metadata": {},
   "outputs": [
    {
     "data": {
      "text/html": [
       "<div>\n",
       "<style scoped>\n",
       "    .dataframe tbody tr th:only-of-type {\n",
       "        vertical-align: middle;\n",
       "    }\n",
       "\n",
       "    .dataframe tbody tr th {\n",
       "        vertical-align: top;\n",
       "    }\n",
       "\n",
       "    .dataframe thead th {\n",
       "        text-align: right;\n",
       "    }\n",
       "</style>\n",
       "<table border=\"1\" class=\"dataframe\">\n",
       "  <thead>\n",
       "    <tr style=\"text-align: right;\">\n",
       "      <th></th>\n",
       "      <th>Avg_claim_amount</th>\n",
       "    </tr>\n",
       "    <tr>\n",
       "      <th>Segment</th>\n",
       "      <th></th>\n",
       "    </tr>\n",
       "  </thead>\n",
       "  <tbody>\n",
       "    <tr>\n",
       "      <th>Gold</th>\n",
       "      <td>12143.525907</td>\n",
       "    </tr>\n",
       "    <tr>\n",
       "      <th>Platinum</th>\n",
       "      <td>11919.921053</td>\n",
       "    </tr>\n",
       "    <tr>\n",
       "      <th>Silver</th>\n",
       "      <td>11388.066474</td>\n",
       "    </tr>\n",
       "  </tbody>\n",
       "</table>\n",
       "</div>"
      ],
      "text/plain": [
       "          Avg_claim_amount\n",
       "Segment                   \n",
       "Gold          12143.525907\n",
       "Platinum      11919.921053\n",
       "Silver        11388.066474"
      ]
     },
     "execution_count": 28,
     "metadata": {},
     "output_type": "execute_result"
    }
   ],
   "source": [
    "#8. What is the average amount claimed by the customers from various\n",
    "#segments?\n",
    "\n",
    "pd.pivot_table(data = cust_claims,index ='Segment',values = 'claim_amount',aggfunc='mean').rename(columns={'claim_amount':'Avg_claim_amount'})"
   ]
  },
  {
   "cell_type": "code",
   "execution_count": 29,
   "id": "e5fc6096",
   "metadata": {},
   "outputs": [],
   "source": [
    "#What is the total claim amount based on incident cause for all the claims\n",
    "#that have been done at least 20 days prior to 1st of October, 2018\n",
    "x = dt(2018,10,1)"
   ]
  },
  {
   "cell_type": "code",
   "execution_count": 30,
   "id": "12a3050d",
   "metadata": {},
   "outputs": [
    {
     "data": {
      "text/html": [
       "<div>\n",
       "<style scoped>\n",
       "    .dataframe tbody tr th:only-of-type {\n",
       "        vertical-align: middle;\n",
       "    }\n",
       "\n",
       "    .dataframe tbody tr th {\n",
       "        vertical-align: top;\n",
       "    }\n",
       "\n",
       "    .dataframe thead th {\n",
       "        text-align: right;\n",
       "    }\n",
       "</style>\n",
       "<table border=\"1\" class=\"dataframe\">\n",
       "  <thead>\n",
       "    <tr style=\"text-align: right;\">\n",
       "      <th></th>\n",
       "      <th>claim_amount</th>\n",
       "    </tr>\n",
       "    <tr>\n",
       "      <th>incident_cause</th>\n",
       "      <th></th>\n",
       "    </tr>\n",
       "  </thead>\n",
       "  <tbody>\n",
       "    <tr>\n",
       "      <th>Crime</th>\n",
       "      <td>672732.0</td>\n",
       "    </tr>\n",
       "    <tr>\n",
       "      <th>Driver error</th>\n",
       "      <td>3214400.0</td>\n",
       "    </tr>\n",
       "    <tr>\n",
       "      <th>Natural causes</th>\n",
       "      <td>1217691.5</td>\n",
       "    </tr>\n",
       "    <tr>\n",
       "      <th>Other causes</th>\n",
       "      <td>3571959.0</td>\n",
       "    </tr>\n",
       "    <tr>\n",
       "      <th>Other driver error</th>\n",
       "      <td>3201811.5</td>\n",
       "    </tr>\n",
       "  </tbody>\n",
       "</table>\n",
       "</div>"
      ],
      "text/plain": [
       "                    claim_amount\n",
       "incident_cause                  \n",
       "Crime                   672732.0\n",
       "Driver error           3214400.0\n",
       "Natural causes         1217691.5\n",
       "Other causes           3571959.0\n",
       "Other driver error     3201811.5"
      ]
     },
     "execution_count": 30,
     "metadata": {},
     "output_type": "execute_result"
    }
   ],
   "source": [
    "\n",
    "df = cust_claims[cust_claims.claim_date<=(x-timedelta(days = 20))]\n",
    "pd.pivot_table(data=df,index = 'incident_cause',values = 'claim_amount',aggfunc='sum')"
   ]
  },
  {
   "cell_type": "code",
   "execution_count": 31,
   "id": "f9e219a3",
   "metadata": {},
   "outputs": [
    {
     "data": {
      "text/plain": [
       "12"
      ]
     },
     "execution_count": 31,
     "metadata": {},
     "output_type": "execute_result"
    }
   ],
   "source": [
    "#. How many adults from TX, DE and AK claimed insurance for driver\n",
    "#related issues and causes?\n",
    "\n",
    "cust_claims[cust_claims['State'].isin(['TX','DE','AK'])&(cust_claims['incident_cause']=='Driver error')&(cust_claims['age_category']=='Adult')]['customer_id'].count()"
   ]
  },
  {
   "cell_type": "code",
   "execution_count": 32,
   "id": "57f969ae",
   "metadata": {},
   "outputs": [],
   "source": [
    "#Draw a pie chart between the aggregated value of claim amount based\n",
    "#on gender and segment. Represent the claim amount as a percentage on\n",
    "#the pie chart."
   ]
  },
  {
   "cell_type": "code",
   "execution_count": 33,
   "id": "738352a8",
   "metadata": {},
   "outputs": [
    {
     "data": {
      "image/png": "[encoded data removed]",
      "text/plain": [
       "<Figure size 720x720 with 1 Axes>"
      ]
     },
     "metadata": {},
     "output_type": "display_data"
    }
   ],
   "source": [
    "gs = pd.pivot_table(data = cust_claims,index=['Segment','gender'],values ='claim_amount',aggfunc='sum')\n",
    "gs\n",
    "plt.figure(figsize=(10,10))\n",
    "co = sns.set_palette('Paired')\n",
    "figure  = plt.pie(gs.claim_amount,labels=gs.index,autopct='%.2f%%',colors= co)\n",
    "plt.show()"
   ]
  },
  {
   "cell_type": "code",
   "execution_count": 34,
   "id": "6fa084f5",
   "metadata": {},
   "outputs": [
    {
     "data": {
      "text/plain": [
       "<Figure size 18000x18000 with 0 Axes>"
      ]
     },
     "metadata": {},
     "output_type": "display_data"
    },
    {
     "data": {
      "image/png": "[encoded data removed]",
      "text/plain": [
       "<Figure size 676.925x504 with 1 Axes>"
      ]
     },
     "metadata": {
      "needs_background": "light"
     },
     "output_type": "display_data"
    }
   ],
   "source": [
    "#12. Among males and females, which gender had claimed the most for any\n",
    "#type of driver related issues? E.g. This metric can be compared using a\n",
    "#bar chart\n",
    "\n",
    "gd =pd.DataFrame(cust_claims[cust_claims.incident_cause=='Driver error'].groupby(by=['gender','claim_type'])['claim_amount'].sum()).reset_index()\n",
    "gd\n",
    "plt.figure(figsize=(20,20),dpi=900)\n",
    "figure = sns.catplot(data=gd,kind='bar',x ='claim_type',y = 'claim_amount', hue='gender',palette='husl',aspect=1.2,height=7)\n",
    "plt.title('Insurance Claim for Driver Related Issues and Gender',)\n",
    "plt.xlabel('Claim Type')\n",
    "plt.ylabel('Claim Amount (in Millions)')\n",
    "plt.show()"
   ]
  },
  {
   "cell_type": "code",
   "execution_count": 35,
   "id": "02fa3971",
   "metadata": {},
   "outputs": [
    {
     "data": {
      "text/plain": [
       "Text(0.5, 1.0, 'Fraudulent Policy Claims and Age Group')"
      ]
     },
     "execution_count": 35,
     "metadata": {},
     "output_type": "execute_result"
    },
    {
     "data": {
      "text/plain": [
       "<Figure size 18000x18000 with 0 Axes>"
      ]
     },
     "metadata": {},
     "output_type": "display_data"
    },
    {
     "data": {
      "image/png": "[encoded data removed]",
      "text/plain": [
       "<Figure size 665.05x504 with 1 Axes>"
      ]
     },
     "metadata": {
      "needs_background": "light"
     },
     "output_type": "display_data"
    }
   ],
   "source": [
    "#Which age group had the maximum fraudulent policy claims? Visualize\n",
    "#it on a bar chart\n",
    "\n",
    "fr = pd.pivot_table(data=cust_claims,index = [cust_claims.age_category,cust_claims.fraudulent],values = 'total_policy_claims' ,aggfunc='count').reset_index().sort_values(by='total_policy_claims',ascending=False)\n",
    "plt.figure(figsize=(20,20),dpi=900)\n",
    "figure=sns.catplot(data=fr,x='age_category',kind = 'bar',y='total_policy_claims',hue='fraudulent',palette='Set2',aspect=1.2,height=7)\n",
    "plt.xlabel('Age Group')\n",
    "plt.ylabel('No. of Claims')\n",
    "plt.title('Fraudulent Policy Claims and Age Group')"
   ]
  },
  {
   "cell_type": "code",
   "execution_count": 36,
   "id": "c401f36a",
   "metadata": {},
   "outputs": [
    {
     "data": {
      "text/plain": [
       "Text(0.5, 1.0, 'Fraudulent Policy Claims and Age Group')"
      ]
     },
     "execution_count": 36,
     "metadata": {},
     "output_type": "execute_result"
    },
    {
     "data": {
      "text/plain": [
       "<Figure size 18000x18000 with 0 Axes>"
      ]
     },
     "metadata": {},
     "output_type": "display_data"
    },
    {
     "data": {
      "image/png": "[encoded data removed]",
      "text/plain": [
       "<Figure size 604.8x504 with 1 Axes>"
      ]
     },
     "metadata": {
      "needs_background": "light"
     },
     "output_type": "display_data"
    }
   ],
   "source": [
    "#OR\n",
    "df = cust_claims[cust_claims.fraudulent=='Yes']\n",
    "fr = pd.pivot_table(data=df,index = [df.age_category,df.fraudulent],values = 'total_policy_claims' ,aggfunc='count').reset_index().sort_values(by='total_policy_claims',ascending=False)\n",
    "plt.figure(figsize=(20,20),dpi=900)\n",
    "figure=sns.catplot(data=fr,x='age_category',kind = 'bar',y='total_policy_claims',palette='Set1',aspect=1.2,height=7)\n",
    "plt.xlabel('Age Group')\n",
    "plt.ylabel('No. of Claims')\n",
    "plt.title('Fraudulent Policy Claims and Age Group')"
   ]
  },
  {
   "cell_type": "code",
   "execution_count": 37,
   "id": "2ebf5440",
   "metadata": {},
   "outputs": [
    {
     "data": {
      "image/png": "[encoded data removed]",
      "text/plain": [
       "<Figure size 2000x2000 with 1 Axes>"
      ]
     },
     "metadata": {
      "needs_background": "light"
     },
     "output_type": "display_data"
    }
   ],
   "source": [
    "#Visualize the monthly trend of the total amount that has been claimed\n",
    "#by the customers. Ensure that on the “month” axis, the month is in a\n",
    "#chronological order not alphabetical order.\n",
    "\n",
    "trend = pd.pivot_table(data=cust_claims,index=cust_claims.claim_date.dt.strftime('%Y - %m'),values='claim_amount',aggfunc='sum')\n",
    "plt.figure(figsize=(10,10),dpi=200)\n",
    "figure=sns.lineplot(data = trend,x = 'claim_date',y='claim_amount',markers=True,size=2,legend=False)\n",
    "plt.xlabel('Year : Month')\n",
    "plt.ylabel('Amount Claimed')\n",
    "plt.title('Monthly trend Claim Amount ')\n",
    "plt.xticks(rotation = 90)\n",
    "plt.show()"
   ]
  },
  {
   "cell_type": "code",
   "execution_count": 38,
   "id": "6dfc89bd",
   "metadata": {},
   "outputs": [],
   "source": [
    "#15. What is the average claim amount for gender and age categories and\n",
    "#suitably represent the above using a facetted bar chart, one facet that\n",
    "#represents fraudulent claims and the other for non-fraudulent claims.\n"
   ]
  },
  {
   "cell_type": "code",
   "execution_count": 39,
   "id": "13f5e4a4",
   "metadata": {},
   "outputs": [
    {
     "data": {
      "text/html": [
       "<div>\n",
       "<style scoped>\n",
       "    .dataframe tbody tr th:only-of-type {\n",
       "        vertical-align: middle;\n",
       "    }\n",
       "\n",
       "    .dataframe tbody tr th {\n",
       "        vertical-align: top;\n",
       "    }\n",
       "\n",
       "    .dataframe thead th {\n",
       "        text-align: right;\n",
       "    }\n",
       "</style>\n",
       "<table border=\"1\" class=\"dataframe\">\n",
       "  <thead>\n",
       "    <tr style=\"text-align: right;\">\n",
       "      <th></th>\n",
       "      <th>gender</th>\n",
       "      <th>age_category</th>\n",
       "      <th>fraudulent</th>\n",
       "      <th>claim_amount</th>\n",
       "    </tr>\n",
       "  </thead>\n",
       "  <tbody>\n",
       "    <tr>\n",
       "      <th>0</th>\n",
       "      <td>Female</td>\n",
       "      <td>Adult</td>\n",
       "      <td>No</td>\n",
       "      <td>11850.629630</td>\n",
       "    </tr>\n",
       "    <tr>\n",
       "      <th>1</th>\n",
       "      <td>Female</td>\n",
       "      <td>Adult</td>\n",
       "      <td>Yes</td>\n",
       "      <td>11833.426966</td>\n",
       "    </tr>\n",
       "    <tr>\n",
       "      <th>2</th>\n",
       "      <td>Female</td>\n",
       "      <td>Children</td>\n",
       "      <td>No</td>\n",
       "      <td>11210.000000</td>\n",
       "    </tr>\n",
       "    <tr>\n",
       "      <th>3</th>\n",
       "      <td>Female</td>\n",
       "      <td>Youth</td>\n",
       "      <td>No</td>\n",
       "      <td>11973.538462</td>\n",
       "    </tr>\n",
       "    <tr>\n",
       "      <th>4</th>\n",
       "      <td>Female</td>\n",
       "      <td>Youth</td>\n",
       "      <td>Yes</td>\n",
       "      <td>6394.625000</td>\n",
       "    </tr>\n",
       "    <tr>\n",
       "      <th>5</th>\n",
       "      <td>Male</td>\n",
       "      <td>Adult</td>\n",
       "      <td>No</td>\n",
       "      <td>11479.387097</td>\n",
       "    </tr>\n",
       "    <tr>\n",
       "      <th>6</th>\n",
       "      <td>Male</td>\n",
       "      <td>Adult</td>\n",
       "      <td>Yes</td>\n",
       "      <td>15821.668539</td>\n",
       "    </tr>\n",
       "    <tr>\n",
       "      <th>7</th>\n",
       "      <td>Male</td>\n",
       "      <td>Children</td>\n",
       "      <td>No</td>\n",
       "      <td>18316.000000</td>\n",
       "    </tr>\n",
       "    <tr>\n",
       "      <th>8</th>\n",
       "      <td>Male</td>\n",
       "      <td>Children</td>\n",
       "      <td>Yes</td>\n",
       "      <td>32407.000000</td>\n",
       "    </tr>\n",
       "    <tr>\n",
       "      <th>9</th>\n",
       "      <td>Male</td>\n",
       "      <td>Youth</td>\n",
       "      <td>No</td>\n",
       "      <td>11588.387097</td>\n",
       "    </tr>\n",
       "    <tr>\n",
       "      <th>10</th>\n",
       "      <td>Male</td>\n",
       "      <td>Youth</td>\n",
       "      <td>Yes</td>\n",
       "      <td>9217.472973</td>\n",
       "    </tr>\n",
       "  </tbody>\n",
       "</table>\n",
       "</div>"
      ],
      "text/plain": [
       "    gender age_category fraudulent  claim_amount\n",
       "0   Female        Adult         No  11850.629630\n",
       "1   Female        Adult        Yes  11833.426966\n",
       "2   Female     Children         No  11210.000000\n",
       "3   Female        Youth         No  11973.538462\n",
       "4   Female        Youth        Yes   6394.625000\n",
       "5     Male        Adult         No  11479.387097\n",
       "6     Male        Adult        Yes  15821.668539\n",
       "7     Male     Children         No  18316.000000\n",
       "8     Male     Children        Yes  32407.000000\n",
       "9     Male        Youth         No  11588.387097\n",
       "10    Male        Youth        Yes   9217.472973"
      ]
     },
     "execution_count": 39,
     "metadata": {},
     "output_type": "execute_result"
    }
   ],
   "source": [
    "f = pd.pivot_table(data=cust_claims,index=['gender','age_category','fraudulent'],values='claim_amount',aggfunc='mean').reset_index()\n",
    "f"
   ]
  },
  {
   "cell_type": "code",
   "execution_count": 40,
   "id": "0b32b27b",
   "metadata": {},
   "outputs": [
    {
     "data": {
      "text/plain": [
       "<seaborn.axisgrid.FacetGrid at 0x7f96c4482fd0>"
      ]
     },
     "execution_count": 40,
     "metadata": {},
     "output_type": "execute_result"
    },
    {
     "data": {
      "text/plain": [
       "<Figure size 2000x2000 with 0 Axes>"
      ]
     },
     "metadata": {},
     "output_type": "display_data"
    },
    {
     "data": {
      "image/png": "[encoded data removed]",
      "text/plain": [
       "<Figure size 792.125x360 with 2 Axes>"
      ]
     },
     "metadata": {
      "needs_background": "light"
     },
     "output_type": "display_data"
    }
   ],
   "source": [
    "plt.figure(figsize=(10, 10), dpi=200)\n",
    "figure=sns.catplot(data=f,\n",
    "            kind='bar',\n",
    "            x='age_category',\n",
    "            y='claim_amount',\n",
    "            hue='gender',\n",
    "            col='fraudulent',\n",
    "            palette='Paired',\n",
    "            )\n",
    "(figure.set_axis_labels(\"Age Category\", \"Average Claim Amount\")\n",
    "  .set_titles(\"{col_var} = {col_name} \")\n",
    "  .despine(left=True))"
   ]
  },
  {
   "cell_type": "code",
   "execution_count": 41,
   "id": "687abc9c",
   "metadata": {},
   "outputs": [],
   "source": [
    "import scipy.stats as stats"
   ]
  },
  {
   "cell_type": "code",
   "execution_count": 44,
   "id": "6e333b88",
   "metadata": {},
   "outputs": [
    {
     "data": {
      "text/html": [
       "<div>\n",
       "<style scoped>\n",
       "    .dataframe tbody tr th:only-of-type {\n",
       "        vertical-align: middle;\n",
       "    }\n",
       "\n",
       "    .dataframe tbody tr th {\n",
       "        vertical-align: top;\n",
       "    }\n",
       "\n",
       "    .dataframe thead th {\n",
       "        text-align: right;\n",
       "    }\n",
       "</style>\n",
       "<table border=\"1\" class=\"dataframe\">\n",
       "  <thead>\n",
       "    <tr style=\"text-align: right;\">\n",
       "      <th></th>\n",
       "      <th>claim_id</th>\n",
       "      <th>customer_id</th>\n",
       "      <th>incident_cause</th>\n",
       "      <th>claim_date</th>\n",
       "      <th>claim_area</th>\n",
       "      <th>police_report</th>\n",
       "      <th>claim_type</th>\n",
       "      <th>claim_amount</th>\n",
       "      <th>total_policy_claims</th>\n",
       "      <th>fraudulent</th>\n",
       "      <th>gender</th>\n",
       "      <th>DateOfBirth</th>\n",
       "      <th>State</th>\n",
       "      <th>Contact</th>\n",
       "      <th>Segment</th>\n",
       "      <th>alert_flag</th>\n",
       "      <th>age</th>\n",
       "      <th>age_category</th>\n",
       "    </tr>\n",
       "  </thead>\n",
       "  <tbody>\n",
       "    <tr>\n",
       "      <th>0</th>\n",
       "      <td>54004764</td>\n",
       "      <td>21868593.0</td>\n",
       "      <td>Driver error</td>\n",
       "      <td>2017-11-27</td>\n",
       "      <td>Auto</td>\n",
       "      <td>No</td>\n",
       "      <td>Material only</td>\n",
       "      <td>2980.0</td>\n",
       "      <td>1</td>\n",
       "      <td>No</td>\n",
       "      <td>Female</td>\n",
       "      <td>1979-01-12</td>\n",
       "      <td>VT</td>\n",
       "      <td>789-916-8172</td>\n",
       "      <td>Platinum</td>\n",
       "      <td>1</td>\n",
       "      <td>38</td>\n",
       "      <td>Adult</td>\n",
       "    </tr>\n",
       "    <tr>\n",
       "      <th>1</th>\n",
       "      <td>33985796</td>\n",
       "      <td>75740424.0</td>\n",
       "      <td>Crime</td>\n",
       "      <td>2018-10-03</td>\n",
       "      <td>Home</td>\n",
       "      <td>Unknown</td>\n",
       "      <td>Material only</td>\n",
       "      <td>2980.0</td>\n",
       "      <td>3</td>\n",
       "      <td>No</td>\n",
       "      <td>Female</td>\n",
       "      <td>1970-01-13</td>\n",
       "      <td>ME</td>\n",
       "      <td>265-543-1264</td>\n",
       "      <td>Silver</td>\n",
       "      <td>1</td>\n",
       "      <td>48</td>\n",
       "      <td>Adult</td>\n",
       "    </tr>\n",
       "    <tr>\n",
       "      <th>3</th>\n",
       "      <td>13015401</td>\n",
       "      <td>47830476.0</td>\n",
       "      <td>Natural causes</td>\n",
       "      <td>2018-06-17</td>\n",
       "      <td>Auto</td>\n",
       "      <td>No</td>\n",
       "      <td>Material only</td>\n",
       "      <td>1680.0</td>\n",
       "      <td>1</td>\n",
       "      <td>No</td>\n",
       "      <td>Female</td>\n",
       "      <td>1986-05-01</td>\n",
       "      <td>MA</td>\n",
       "      <td>413-187-7945</td>\n",
       "      <td>Silver</td>\n",
       "      <td>1</td>\n",
       "      <td>32</td>\n",
       "      <td>Adult</td>\n",
       "    </tr>\n",
       "    <tr>\n",
       "      <th>6</th>\n",
       "      <td>12878692</td>\n",
       "      <td>18401412.0</td>\n",
       "      <td>Driver error</td>\n",
       "      <td>2018-01-13</td>\n",
       "      <td>Auto</td>\n",
       "      <td>No</td>\n",
       "      <td>Material only</td>\n",
       "      <td>1730.0</td>\n",
       "      <td>4</td>\n",
       "      <td>No</td>\n",
       "      <td>Male</td>\n",
       "      <td>1999-03-02</td>\n",
       "      <td>AR</td>\n",
       "      <td>752-398-2914</td>\n",
       "      <td>Gold</td>\n",
       "      <td>1</td>\n",
       "      <td>18</td>\n",
       "      <td>Youth</td>\n",
       "    </tr>\n",
       "    <tr>\n",
       "      <th>7</th>\n",
       "      <td>27026412</td>\n",
       "      <td>73486606.0</td>\n",
       "      <td>Natural causes</td>\n",
       "      <td>2018-04-10</td>\n",
       "      <td>Auto</td>\n",
       "      <td>No</td>\n",
       "      <td>Material only</td>\n",
       "      <td>1160.0</td>\n",
       "      <td>3</td>\n",
       "      <td>No</td>\n",
       "      <td>Male</td>\n",
       "      <td>1999-10-25</td>\n",
       "      <td>AK</td>\n",
       "      <td>256-968-9172</td>\n",
       "      <td>Silver</td>\n",
       "      <td>1</td>\n",
       "      <td>18</td>\n",
       "      <td>Youth</td>\n",
       "    </tr>\n",
       "  </tbody>\n",
       "</table>\n",
       "</div>"
      ],
      "text/plain": [
       "   claim_id  customer_id  incident_cause claim_date claim_area police_report  \\\n",
       "0  54004764   21868593.0    Driver error 2017-11-27       Auto            No   \n",
       "1  33985796   75740424.0           Crime 2018-10-03       Home       Unknown   \n",
       "3  13015401   47830476.0  Natural causes 2018-06-17       Auto            No   \n",
       "6  12878692   18401412.0    Driver error 2018-01-13       Auto            No   \n",
       "7  27026412   73486606.0  Natural causes 2018-04-10       Auto            No   \n",
       "\n",
       "      claim_type  claim_amount  total_policy_claims fraudulent  gender  \\\n",
       "0  Material only        2980.0                    1         No  Female   \n",
       "1  Material only        2980.0                    3         No  Female   \n",
       "3  Material only        1680.0                    1         No  Female   \n",
       "6  Material only        1730.0                    4         No    Male   \n",
       "7  Material only        1160.0                    3         No    Male   \n",
       "\n",
       "  DateOfBirth State       Contact   Segment  alert_flag  age age_category  \n",
       "0  1979-01-12    VT  789-916-8172  Platinum           1   38        Adult  \n",
       "1  1970-01-13    ME  265-543-1264    Silver           1   48        Adult  \n",
       "3  1986-05-01    MA  413-187-7945    Silver           1   32        Adult  \n",
       "6  1999-03-02    AR  752-398-2914      Gold           1   18        Youth  \n",
       "7  1999-10-25    AK  256-968-9172    Silver           1   18        Youth  "
      ]
     },
     "execution_count": 44,
     "metadata": {},
     "output_type": "execute_result"
    }
   ],
   "source": [
    "cust_claims.head()\n"
   ]
  },
  {
   "cell_type": "raw",
   "id": "f7d73695",
   "metadata": {},
   "source": [
    "#16. Is there any similarity in the amount claimed by males and females?\n",
    "H0 = There is similarity in the amount claimed by males and females\n",
    "Ha =  There is no similarity in the amount claimed by males and females"
   ]
  },
  {
   "cell_type": "code",
   "execution_count": null,
   "id": "fc926cf0",
   "metadata": {},
   "outputs": [],
   "source": [
    "claim_m = cust_claims[cust_claims.gender=='Male']['claim_amount']\n",
    "claim_f = cust_claims[cust_claims.gender=='Female']['claim_amount']"
   ]
  },
  {
   "cell_type": "code",
   "execution_count": null,
   "id": "da13bc81",
   "metadata": {},
   "outputs": [],
   "source": [
    "#checking normality assumption of t test\n",
    "stats.normaltest(claim_m)"
   ]
  },
  {
   "cell_type": "code",
   "execution_count": 64,
   "id": "c72d8b68",
   "metadata": {},
   "outputs": [
    {
     "data": {
      "text/plain": [
       "NormaltestResult(statistic=72.82461412069884, pvalue=1.5358046222136078e-16)"
      ]
     },
     "execution_count": 64,
     "metadata": {},
     "output_type": "execute_result"
    }
   ],
   "source": [
    "stats.normaltest(claim_f)"
   ]
  },
  {
   "cell_type": "code",
   "execution_count": 55,
   "id": "fef47602",
   "metadata": {},
   "outputs": [
    {
     "data": {
      "text/plain": [
       "13803.89261445867"
      ]
     },
     "execution_count": 55,
     "metadata": {},
     "output_type": "execute_result"
    }
   ],
   "source": [
    "stats.variation(claim_m)*claim_m.mean()"
   ]
  },
  {
   "cell_type": "code",
   "execution_count": 54,
   "id": "28ff3749",
   "metadata": {},
   "outputs": [
    {
     "data": {
      "text/plain": [
       "13349.289154979931"
      ]
     },
     "execution_count": 54,
     "metadata": {},
     "output_type": "execute_result"
    }
   ],
   "source": [
    "stats.variation(claim_f)*claim_f.mean()"
   ]
  },
  {
   "cell_type": "code",
   "execution_count": 61,
   "id": "db1ca01f",
   "metadata": {},
   "outputs": [
    {
     "data": {
      "text/plain": [
       "Ttest_indResult(statistic=0.7685413765839256, pvalue=0.4423319438865344)"
      ]
     },
     "execution_count": 61,
     "metadata": {},
     "output_type": "execute_result"
    }
   ],
   "source": [
    "stats.ttest_ind(claim_m,claim_f)"
   ]
  },
  {
   "cell_type": "code",
   "execution_count": null,
   "id": "c0a99137",
   "metadata": {},
   "outputs": [],
   "source": [
    "#pvalue greater than 0.05 hence H0 is true i.e there is similairity in the amount claimed by males and females"
   ]
  },
  {
   "cell_type": "code",
   "execution_count": null,
   "id": "7905491a",
   "metadata": {},
   "outputs": [],
   "source": [
    "#16 . Is there any relationship between age category and segment?"
   ]
  },
  {
   "cell_type": "code",
   "execution_count": 58,
   "id": "c7eb7446",
   "metadata": {},
   "outputs": [
    {
     "data": {
      "text/plain": [
       "(6.197367604125089,\n",
       " 0.18488562214528276,\n",
       " 4,\n",
       " array([[267.6925892 , 250.35498628, 239.95242452],\n",
       "        [  2.8252516 ,   2.64226898,   2.53247941],\n",
       "        [115.48215919, 108.00274474, 103.51509607]]))"
      ]
     },
     "execution_count": 58,
     "metadata": {},
     "output_type": "execute_result"
    }
   ],
   "source": [
    "#Using chi square test to find relationship between two categorical variables\n",
    "\n",
    "stats.chi2_contingency(pd.crosstab(cust_claims.age_category,cust_claims.Segment))\n"
   ]
  },
  {
   "cell_type": "raw",
   "id": "896896ab",
   "metadata": {},
   "source": [
    "p value  = 0.18488562214528276 > 0.05\n",
    "Hence H0 holds i.e There is no relationship between age category and segment"
   ]
  },
  {
   "cell_type": "raw",
   "id": "94f9fee8",
   "metadata": {},
   "source": [
    "#18. The current year has shown a significant rise in claim amounts as\n",
    "#compared to 2016-17 fiscal average which was $10,000\n",
    "\n",
    "H0 = There is no significant increase in claim amounts in current year relative to $10000\n",
    "Ha = There is significant increase in claim amounts in current year relative to $10000"
   ]
  },
  {
   "cell_type": "code",
   "execution_count": null,
   "id": "d1dc90f3",
   "metadata": {},
   "outputs": [],
   "source": []
  },
  {
   "cell_type": "code",
   "execution_count": 60,
   "id": "60c58f1b",
   "metadata": {},
   "outputs": [
    {
     "data": {
      "text/plain": [
       "11830.524702653249"
      ]
     },
     "execution_count": 60,
     "metadata": {},
     "output_type": "execute_result"
    }
   ],
   "source": [
    "cust_claims.claim_amount.mean()"
   ]
  },
  {
   "cell_type": "code",
   "execution_count": 65,
   "id": "0ed78f4f",
   "metadata": {},
   "outputs": [
    {
     "data": {
      "text/plain": [
       "NormaltestResult(statistic=163.46050258205335, pvalue=3.1989161738355716e-36)"
      ]
     },
     "execution_count": 65,
     "metadata": {},
     "output_type": "execute_result"
    }
   ],
   "source": [
    "stats.normaltest(cust_claims.claim_amount)"
   ]
  },
  {
   "cell_type": "code",
   "execution_count": 59,
   "id": "c3c12b7f",
   "metadata": {},
   "outputs": [
    {
     "data": {
      "text/plain": [
       "Ttest_1sampResult(statistic=4.4510101000777835, pvalue=4.711538228630456e-06)"
      ]
     },
     "execution_count": 59,
     "metadata": {},
     "output_type": "execute_result"
    }
   ],
   "source": [
    "stats.ttest_1samp(cust_claims.claim_amount,10000,alternative = 'greater')"
   ]
  },
  {
   "cell_type": "raw",
   "id": "48c98afa",
   "metadata": {},
   "source": [
    "pvalue=4.711538228630456e-06 \n",
    "    \n",
    "pvalue is less than 0.05 hence Ha is true."
   ]
  },
  {
   "cell_type": "code",
   "execution_count": null,
   "id": "b22035de",
   "metadata": {},
   "outputs": [],
   "source": [
    "#19. Is there any relation between age groups and insurance claims?\n"
   ]
  },
  {
   "cell_type": "code",
   "execution_count": null,
   "id": "3d513ec7",
   "metadata": {},
   "outputs": [],
   "source": [
    "#20. Is there any relationship between total number of policy claims and the\n",
    "#claimed amount"
   ]
  },
  {
   "cell_type": "raw",
   "id": "e7562038",
   "metadata": {},
   "source": [
    "H0 = There is no relationship between total number of policy claims and the\n",
    "claimed amount\n",
    "\n",
    "Ha = There is some relationship between total number of policy claims and the\n",
    "claimed amount"
   ]
  },
  {
   "cell_type": "code",
   "execution_count": 66,
   "id": "4e2db71b",
   "metadata": {},
   "outputs": [
    {
     "data": {
      "text/plain": [
       "NormaltestResult(statistic=163.46050258205335, pvalue=3.1989161738355716e-36)"
      ]
     },
     "execution_count": 66,
     "metadata": {},
     "output_type": "execute_result"
    }
   ],
   "source": [
    "#checking normality assumption of pearsons correlation test\n",
    "stats.normaltest(cust_claims.claim_amount)\n",
    "\n"
   ]
  },
  {
   "cell_type": "code",
   "execution_count": 67,
   "id": "1fd3129d",
   "metadata": {},
   "outputs": [
    {
     "data": {
      "text/plain": [
       "NormaltestResult(statistic=458.71181054940325, pvalue=2.466016324877371e-100)"
      ]
     },
     "execution_count": 67,
     "metadata": {},
     "output_type": "execute_result"
    }
   ],
   "source": [
    "stats.normaltest(cust_claims.total_policy_claims)\n"
   ]
  },
  {
   "cell_type": "code",
   "execution_count": 62,
   "id": "3eb59f72",
   "metadata": {},
   "outputs": [
    {
     "data": {
      "text/plain": [
       "(-0.021900157396936727, 0.4695020202739997)"
      ]
     },
     "execution_count": 62,
     "metadata": {},
     "output_type": "execute_result"
    }
   ],
   "source": [
    "stats.pearsonr(cust_claims.claim_amount,cust_claims.total_policy_claims)"
   ]
  },
  {
   "cell_type": "raw",
   "id": "d9ad5e51",
   "metadata": {},
   "source": [
    "p value = 0.4695020202739997\n",
    "pvalue less than 0.05.Hence there is no significant  linear correlation between total number of policy claims and the\n",
    "claimed amount."
   ]
  }
 ],
 "metadata": {
  "hide_input": false,
  "kernelspec": {
   "display_name": "Python 3 (ipykernel)",
   "language": "python",
   "name": "python3"
  },
  "language_info": {
   "codemirror_mode": {
    "name": "ipython",
    "version": 3
   },
   "file_extension": ".py",
   "mimetype": "text/x-python",
   "name": "python",
   "nbconvert_exporter": "python",
   "pygments_lexer": "ipython3",
   "version": "3.9.12"
  },
  "toc": {
   "base_numbering": 1,
   "nav_menu": {},
   "number_sections": true,
   "sideBar": true,
   "skip_h1_title": false,
   "title_cell": "Table of Contents",
   "title_sidebar": "Contents",
   "toc_cell": false,
   "toc_position": {},
   "toc_section_display": true,
   "toc_window_display": false
  },
  "varInspector": {
   "cols": {
    "lenName": 16,
    "lenType": 16,
    "lenVar": 40
   },
   "kernels_config": {
    "python": {
     "delete_cmd_postfix": "",
     "delete_cmd_prefix": "del ",
     "library": "var_list.py",
     "varRefreshCmd": "print(var_dic_list())"
    },
    "r": {
     "delete_cmd_postfix": ") ",
     "delete_cmd_prefix": "rm(",
     "library": "var_list.r",
     "varRefreshCmd": "cat(var_dic_list()) "
    }
   },
   "types_to_exclude": [
    "module",
    "function",
    "builtin_function_or_method",
    "instance",
    "_Feature"
   ],
   "window_display": false
  }
 },
 "nbformat": 4,
 "nbformat_minor": 5
}
